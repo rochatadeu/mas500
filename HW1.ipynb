{
 "cells": [
  {
   "cell_type": "code",
   "execution_count": 27,
   "metadata": {
    "collapsed": false
   },
   "outputs": [],
   "source": [
    "#Did US Mainstream Media sources talk about Trump or Clinton more in September 2016?\n",
    "import mediacloud\n",
    "from API_config import MY_API_KEY\n"
   ]
  },
  {
   "cell_type": "code",
   "execution_count": 26,
   "metadata": {
    "collapsed": false
   },
   "outputs": [
    {
     "name": "stdout",
     "output_type": "stream",
     "text": [
      "206867\n",
      "139600\n"
     ]
    }
   ],
   "source": [
    "mc = mediacloud.api.MediaCloud(MY_API_KEY)\n",
    "dtres = mc.sentenceCount('Trump', '+publish_date:[2016-09-01T00:00:00Z TO 2016-10-01T00:00:00Z} AND +tags_id_media:1')\n",
    "dt = dtres['count']\n",
    "hcres = mc.sentenceCount('Clinton', '+publish_date:[2016-09-01T00:00:00Z TO 2016-10-01T00:00:00Z} AND +tags_id_media:1')\n",
    "hc = hcres['count']"
   ]
  },
  {
   "cell_type": "code",
   "execution_count": 28,
   "metadata": {
    "collapsed": false
   },
   "outputs": [
    {
     "name": "stdout",
     "output_type": "stream",
     "text": [
      "Yes, US media talked more about Trump in September.\n",
      "Sentences mentioning Trump:\n",
      "{u'count': 206867}\n",
      "Sentences mentioning Clinton:\n",
      "{u'count': 139600}\n"
     ]
    }
   ],
   "source": [
    "if dt > hc:\n",
    "    print 'Yes, US media talked more about Trump in September.'\n",
    "else:\n",
    "    print 'No, US media talked more about Clinton in September.'\n",
    "\n",
    "print 'Sentences mentioning Trump:'\n",
    "print dt\n",
    "print 'Sentences mentioning Clinton:'\n",
    "print hc"
   ]
  },
  {
   "cell_type": "code",
   "execution_count": null,
   "metadata": {
    "collapsed": true
   },
   "outputs": [],
   "source": []
  }
 ],
 "metadata": {
  "kernelspec": {
   "display_name": "Python 2",
   "language": "python",
   "name": "python2"
  },
  "language_info": {
   "codemirror_mode": {
    "name": "ipython",
    "version": 2
   },
   "file_extension": ".py",
   "mimetype": "text/x-python",
   "name": "python",
   "nbconvert_exporter": "python",
   "pygments_lexer": "ipython2",
   "version": "2.7.12"
  }
 },
 "nbformat": 4,
 "nbformat_minor": 1
}
